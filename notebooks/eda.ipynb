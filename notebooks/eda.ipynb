{
 "cells": [
  {
   "cell_type": "code",
   "execution_count": null,
   "metadata": {},
   "outputs": [],
   "source": [
    "import pandas as pd\n",
    "import matplotlib.pyplot as plt\n",
    "import seaborn as sns"
   ]
  },
  {
   "cell_type": "code",
   "execution_count": null,
   "metadata": {},
   "outputs": [],
   "source": [
    "# Load cleaned dataset\n",
    "train_df = pd.read_csv(\"../data/train_cleaned.csv\")"
   ]
  },
  {
   "cell_type": "code",
   "execution_count": null,
   "metadata": {},
   "outputs": [],
   "source": [
    "# 1️⃣ Summary statistics\n",
    "print(\"📊 Summary Statistics:\")\n",
    "print(train_df.describe())"
   ]
  },
  {
   "cell_type": "code",
   "execution_count": null,
   "metadata": {},
   "outputs": [],
   "source": [
    "# 2️⃣ Class distribution\n",
    "print(\"\\n🔍 Class Distribution:\")\n",
    "print(train_df[\"income\"].value_counts())"
   ]
  },
  {
   "cell_type": "code",
   "execution_count": null,
   "metadata": {},
   "outputs": [],
   "source": [
    "# 3️⃣ Feature correlations (Only Numerical Columns)\n",
    "numeric_df = train_df.select_dtypes(\n",
    "    include=[\"number\"])  # Keep only numeric columns\n",
    "\n",
    "plt.figure(figsize=(10, 6))\n",
    "sns.heatmap(numeric_df.corr(), annot=True, cmap=\"coolwarm\", fmt=\".2f\")\n",
    "plt.title(\"Feature Correlation Heatmap\")\n",
    "plt.show()"
   ]
  },
  {
   "cell_type": "code",
   "execution_count": null,
   "metadata": {},
   "outputs": [],
   "source": [
    "# 4️⃣ Visualizing distributions\n",
    "numerical_cols = [\"age\", \"education.num\", \"capital.gain\", \"capital.loss\", \"hours.per.week\"]\n",
    "\n",
    "plt.figure(figsize=(12,8))\n",
    "for i, col in enumerate(numerical_cols, 1):\n",
    "    plt.subplot(2, 3, i)\n",
    "    sns.histplot(train_df[col], kde=True, bins=30)\n",
    "    plt.title(f\"Distribution of {col}\")\n",
    "\n",
    "plt.tight_layout()\n",
    "plt.show()\n"
   ]
  },
  {
   "cell_type": "code",
   "execution_count": null,
   "metadata": {},
   "outputs": [],
   "source": [
    "# 5️⃣ Bar charts for categorical features\n",
    "categorical_cols = [\"workclass\", \"marital.status\", \"occupation\", \"relationship\", \"sex\"]\n",
    "\n",
    "plt.figure(figsize=(12,10))\n",
    "for i, col in enumerate(categorical_cols, 1):\n",
    "    plt.subplot(3, 2, i)\n",
    "    sns.countplot(y=train_df[col], order=train_df[col].value_counts(\n",
    "    ).index, hue=train_df[col], palette=\"viridis\", legend=False)\n",
    "    plt.title(f\"Distribution of {col}\")\n",
    "\n",
    "plt.tight_layout()\n",
    "plt.show()"
   ]
  }
 ],
 "metadata": {
  "kernelspec": {
   "display_name": "Python 3",
   "language": "python",
   "name": "python3"
  },
  "language_info": {
   "codemirror_mode": {
    "name": "ipython",
    "version": 3
   },
   "file_extension": ".py",
   "mimetype": "text/x-python",
   "name": "python",
   "nbconvert_exporter": "python",
   "pygments_lexer": "ipython3",
   "version": "3.12.6"
  }
 },
 "nbformat": 4,
 "nbformat_minor": 2
}
