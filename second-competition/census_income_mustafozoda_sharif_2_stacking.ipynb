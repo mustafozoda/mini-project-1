{
 "cells": [
  {
   "cell_type": "markdown",
   "metadata": {},
   "source": [
    "### Second Competition Model: Stacking Classifier\n",
    "\n",
    "For the second competition, we used a **Stacking Classifier** that combines multiple base models (Logistic Regression, Random Forest, K-Nearest Neighbors, and Support Vector Classifier) with a **Logistic Regression** meta-model. This ensemble method improves performance by leveraging the strengths of each base model. The final predictions were made using this stacking approach, and the results were evaluated using balanced accuracy.\n"
   ]
  },
  {
   "cell_type": "code",
   "execution_count": null,
   "metadata": {},
   "outputs": [],
   "source": [
    "import pandas as pd\n",
    "import numpy as np\n",
    "from sklearn.model_selection import train_test_split\n",
    "from sklearn.ensemble import StackingClassifier, RandomForestClassifier\n",
    "from sklearn.linear_model import LogisticRegression\n",
    "from sklearn.svm import SVC\n",
    "from sklearn.impute import SimpleImputer\n",
    "from sklearn.preprocessing import StandardScaler\n",
    "from sklearn.pipeline import Pipeline\n",
    "from sklearn.metrics import classification_report, accuracy_score"
   ]
  },
  {
   "cell_type": "code",
   "execution_count": null,
   "metadata": {},
   "outputs": [],
   "source": [
    "train = pd.read_csv(\"./data/train_processed.csv\")\n",
    "test = pd.read_csv(\"./data/test_processed.csv\")"
   ]
  },
  {
   "cell_type": "code",
   "execution_count": null,
   "metadata": {},
   "outputs": [],
   "source": [
    "X = train.drop('income', axis=1)  # Assuming 'income' is the target variable\n",
    "y = train['income']"
   ]
  },
  {
   "cell_type": "code",
   "execution_count": null,
   "metadata": {},
   "outputs": [],
   "source": [
    "# Split the data into training and test sets (80% training, 20% testing)\n",
    "X_train, X_test, y_train, y_test = train_test_split(\n",
    "    X, y, test_size=0.2, random_state=42)"
   ]
  },
  {
   "cell_type": "code",
   "execution_count": null,
   "metadata": {},
   "outputs": [],
   "source": [
    "# Pipeline for preprocessing (imputation + scaling)\n",
    "preprocessor = Pipeline(steps=[\n",
    "    ('imputer', SimpleImputer(strategy='mean')),\n",
    "    ('scaler', StandardScaler())  # Standard scaling of features\n",
    "])"
   ]
  },
  {
   "cell_type": "code",
   "execution_count": null,
   "metadata": {},
   "outputs": [],
   "source": [
    "# Apply the preprocessor to your data\n",
    "X_train_scaled = preprocessor.fit_transform(X_train)\n",
    "X_test_scaled = preprocessor.transform(X_test)"
   ]
  },
  {
   "cell_type": "code",
   "execution_count": null,
   "metadata": {},
   "outputs": [],
   "source": [
    "# Define base learners for the Stacking Classifier\n",
    "base_learners = [\n",
    "    ('lr', LogisticRegression(max_iter=1000)),  # Logistic Regression\n",
    "    ('rf', RandomForestClassifier(n_estimators=100, random_state=42)),  # Random Forest\n",
    "    ('svc', SVC(probability=True, random_state=42))  # Support Vector Classifier\n",
    "]"
   ]
  },
  {
   "cell_type": "code",
   "execution_count": null,
   "metadata": {},
   "outputs": [],
   "source": [
    "# Stacking Classifier\n",
    "stacking_model = StackingClassifier(\n",
    "    estimators=base_learners,  # Base models\n",
    "    # Final model to combine base model predictions\n",
    "    final_estimator=LogisticRegression(),\n",
    "    cv=5  # Cross-validation for base models\n",
    ")"
   ]
  },
  {
   "cell_type": "code",
   "execution_count": null,
   "metadata": {},
   "outputs": [],
   "source": [
    "# Train the Stacking Classifier\n",
    "stacking_model.fit(X_train_scaled, y_train)\n",
    "\n",
    "# Predict on the test set\n",
    "y_pred = stacking_model.predict(X_test_scaled)"
   ]
  },
  {
   "cell_type": "code",
   "execution_count": null,
   "metadata": {},
   "outputs": [],
   "source": [
    "# Evaluate performance\n",
    "print(\"Stacking Classifier Performance on Test Data:\")\n",
    "print(classification_report(y_test, y_pred))\n",
    "print(\"Accuracy:\", accuracy_score(y_test, y_pred))"
   ]
  },
  {
   "cell_type": "code",
   "execution_count": null,
   "metadata": {},
   "outputs": [],
   "source": [
    "test_scaled = preprocessor.transform(test)\n",
    "test_predictions = stacking_model.predict(test_scaled)"
   ]
  },
  {
   "cell_type": "code",
   "execution_count": null,
   "metadata": {},
   "outputs": [],
   "source": [
    "submission = pd.DataFrame({'income': test_predictions})\n",
    "submission.to_csv('census_income_mustafozoda_sharif_2_stacking.csv', index=False)\n",
    "\n",
    "print(\"Predictions saved to 'census_income_mustafozoda_sharif_2_stacking.csv'\")"
   ]
  },
  {
   "cell_type": "code",
   "execution_count": null,
   "metadata": {},
   "outputs": [],
   "source": [
    "import os\n",
    "from nbconvert import HTMLExporter\n",
    "import nbformat\n",
    "\n",
    "\n",
    "notebook_filename = 'census_income_mustafozoda_sharif_2_stacking.ipynb' \n",
    "with open(notebook_filename, 'r', encoding='utf-8') as f:\n",
    "    notebook_content = nbformat.read(f, as_version=4)\n",
    "\n",
    "html_exporter = HTMLExporter()\n",
    "html_data, resources = html_exporter.from_notebook_node(notebook_content)\n",
    "\n",
    "output_filename = 'census_income_mustafozoda_sharif_2_stacking.html'\n",
    "with open(output_filename, 'w', encoding='utf-8') as f:\n",
    "    f.write(html_data)\n",
    "\n",
    "print(f\"Notebook successfully exported to {output_filename}\")"
   ]
  },
  {
   "cell_type": "code",
   "execution_count": null,
   "metadata": {},
   "outputs": [],
   "source": []
  }
 ],
 "metadata": {
  "kernelspec": {
   "display_name": "Python 3",
   "language": "python",
   "name": "python3"
  },
  "language_info": {
   "codemirror_mode": {
    "name": "ipython",
    "version": 3
   },
   "file_extension": ".py",
   "mimetype": "text/x-python",
   "name": "python",
   "nbconvert_exporter": "python",
   "pygments_lexer": "ipython3",
   "version": "3.12.6"
  }
 },
 "nbformat": 4,
 "nbformat_minor": 2
}
