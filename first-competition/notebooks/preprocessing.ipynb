{
 "cells": [
  {
   "cell_type": "code",
   "execution_count": null,
   "metadata": {},
   "outputs": [],
   "source": [
    "import pandas as pd"
   ]
  },
  {
   "cell_type": "code",
   "execution_count": null,
   "metadata": {},
   "outputs": [],
   "source": [
    "# Check if the dataset exists\n",
    "train_path = \"../data/train.csv\"\n",
    "test_path = \"../data/test.csv\"\n",
    "\n",
    "try:\n",
    "    train_df = pd.read_csv(train_path)\n",
    "    test_df = pd.read_csv(test_path)\n",
    "    print(\"✅ Data loaded successfully!\")\n",
    "    print(\"Train shape:\", train_df.shape)\n",
    "    print(\"Test shape:\", test_df.shape)\n",
    "except FileNotFoundError:\n",
    "    print(\"❌ Error: The dataset file was not found. Make sure train.csv and test.csv are in the 'data/' folder.\")"
   ]
  },
  {
   "cell_type": "code",
   "execution_count": null,
   "metadata": {},
   "outputs": [],
   "source": [
    "# Fill missing values\n",
    "categorical_cols = [\"workclass\", \"marital.status\", \"occupation\", \"relationship\", \"sex\"]\n",
    "numerical_cols = [\"age\", \"education.num\", \"capital.gain\", \"capital.loss\", \"hours.per.week\"]\n",
    "\n",
    "for col in categorical_cols:\n",
    "    train_df[col] = train_df[col].fillna(\"Unknown\").str.lower().str.strip()\n",
    "    test_df[col] = test_df[col].fillna(\"Unknown\").str.lower().str.strip()\n",
    "\n",
    "for col in numerical_cols:\n",
    "    median_value = train_df[col].median()\n",
    "    train_df[col] = train_df[col].fillna(median_value)\n",
    "    test_df[col] = test_df[col].fillna(median_value)"
   ]
  },
  {
   "cell_type": "code",
   "execution_count": null,
   "metadata": {},
   "outputs": [],
   "source": [
    "# Save cleaned datasets\n",
    "train_df.to_csv(\"../data/train_cleaned.csv\", index=False)\n",
    "test_df.to_csv(\"../data/test_cleaned.csv\", index=False)\n",
    "\n",
    "print(\"✅ Data cleaning complete. Cleaned files saved!\")"
   ]
  },
  {
   "cell_type": "code",
   "execution_count": null,
   "metadata": {},
   "outputs": [],
   "source": [
    "import pandas as pd\n",
    "\n",
    "# Load cleaned datasets\n",
    "train_df = pd.read_csv(\"../data/train_cleaned.csv\")\n",
    "test_df = pd.read_csv(\"../data/test_cleaned.csv\")\n",
    "\n",
    "# Debug: Check 'income' before encoding\n",
    "print(\"Before mapping:\")\n",
    "print(train_df[\"income\"].value_counts(dropna=False))"
   ]
  },
  {
   "cell_type": "code",
   "execution_count": null,
   "metadata": {},
   "outputs": [],
   "source": [
    "# 1️⃣ Convert binary categorical variables\n",
    "binary_mappings = {\"male\": 1, \"female\": 0, \"<=50K\": 0, \">50K\": 1}\n",
    "train_df[\"sex\"] = train_df[\"sex\"].map(binary_mappings)\n",
    "test_df[\"sex\"] = test_df[\"sex\"].map(binary_mappings)\n",
    "\n",
    "# Ensure 'income' is mapped correctly\n",
    "train_df[\"income\"] = train_df[\"income\"].str.strip().str.upper().map({\n",
    "    \">50K\": 1, \"<=50K\": 0})\n",
    "\n",
    "# Debug: Check 'income' after mapping\n",
    "print(\"After mapping:\")\n",
    "print(train_df[\"income\"].value_counts(dropna=False))"
   ]
  },
  {
   "cell_type": "code",
   "execution_count": null,
   "metadata": {},
   "outputs": [],
   "source": [
    "# 2️⃣ One-Hot Encoding for multi-class categorical columns\n",
    "categorical_cols = [\"workclass\", \"marital.status\",\n",
    "                    \"occupation\", \"relationship\"]\n",
    "train_df = pd.get_dummies(train_df, columns=categorical_cols, drop_first=True)\n",
    "test_df = pd.get_dummies(test_df, columns=categorical_cols, drop_first=True)\n",
    "\n",
    "# Ensure both train & test have the same columns (test may be missing some categories)\n",
    "missing_cols = set(train_df.columns) - set(test_df.columns)\n",
    "for col in missing_cols:\n",
    "    test_df[col] = 0  # Add missing columns with zero values\n",
    "\n",
    "test_df = test_df[train_df.columns.drop(\"income\")]  # Ensure same column order\n",
    "\n",
    "# Debug: Ensure 'income' is still present\n",
    "print(\"Final columns before saving:\", train_df.columns)"
   ]
  },
  {
   "cell_type": "code",
   "execution_count": null,
   "metadata": {},
   "outputs": [],
   "source": [
    "# 3️⃣ Save processed datasets\n",
    "train_df.to_csv(\"../data/train_processed.csv\", index=False)\n",
    "test_df.to_csv(\"../data/test_processed.csv\", index=False)\n",
    "\n",
    "print(\"✅ Feature Engineering complete! Processed files saved.\")\n",
    "\n",
    "# Verify saved data\n",
    "train_df = pd.read_csv(\"../data/train_processed.csv\")\n",
    "print(\"Unique values in 'income' after encoding:\", train_df[\"income\"].unique())\n",
    "print(\"Missing values in 'income':\", train_df[\"income\"].isnull().sum())"
   ]
  }
 ],
 "metadata": {
  "kernelspec": {
   "display_name": "Python 3",
   "language": "python",
   "name": "python3"
  },
  "language_info": {
   "codemirror_mode": {
    "name": "ipython",
    "version": 3
   },
   "file_extension": ".py",
   "mimetype": "text/x-python",
   "name": "python",
   "nbconvert_exporter": "python",
   "pygments_lexer": "ipython3",
   "version": "3.12.6"
  }
 },
 "nbformat": 4,
 "nbformat_minor": 2
}
