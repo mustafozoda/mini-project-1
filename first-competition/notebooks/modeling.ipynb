{
 "cells": [
  {
   "cell_type": "markdown",
   "metadata": {},
   "source": [
    "### First Competition Model: Random Forest\n",
    "\n",
    "For the first competition, we implemented a **Random Forest Classifier** to predict whether an individual's annual income exceeds $50,000. This model was chosen for its ability to handle both classification and regression tasks effectively, as well as its robustness to overfitting. The model's performance was evaluated using **balanced accuracy**, and hyperparameters were fine-tuned for optimal results.\n"
   ]
  },
  {
   "cell_type": "code",
   "execution_count": null,
   "metadata": {},
   "outputs": [],
   "source": [
    "import pandas as pd\n",
    "import numpy as np\n",
    "from sklearn.model_selection import train_test_split\n",
    "from sklearn.ensemble import RandomForestClassifier\n",
    "from sklearn.metrics import balanced_accuracy_score"
   ]
  },
  {
   "cell_type": "code",
   "execution_count": null,
   "metadata": {},
   "outputs": [],
   "source": [
    "# 1️⃣ Load the processed dataset\n",
    "train_df = pd.read_csv(\"../data/train_processed.csv\")\n",
    "test_df = pd.read_csv(\"../data/test_processed.csv\")"
   ]
  },
  {
   "cell_type": "code",
   "execution_count": null,
   "metadata": {},
   "outputs": [],
   "source": [
    "# 2️⃣ Split into features (X) and target (y)\n",
    "X = train_df.drop(columns=[\"income\"])\n",
    "y = train_df[\"income\"]"
   ]
  },
  {
   "cell_type": "code",
   "execution_count": null,
   "metadata": {},
   "outputs": [],
   "source": [
    "# 3️⃣ Train-validation split (80% train, 20% validation)\n",
    "X_train, X_val, y_train, y_val = train_test_split(\n",
    "    X, y, test_size=0.2, random_state=42, stratify=y)"
   ]
  },
  {
   "cell_type": "code",
   "execution_count": null,
   "metadata": {},
   "outputs": [],
   "source": [
    "# 4️⃣ Train the Random Forest model\n",
    "rf_model = RandomForestClassifier(n_estimators=100, random_state=42)\n",
    "rf_model.fit(X_train, y_train)"
   ]
  },
  {
   "cell_type": "code",
   "execution_count": null,
   "metadata": {},
   "outputs": [],
   "source": [
    "# 5️⃣ Evaluate the model\n",
    "y_val_pred = rf_model.predict(X_val)\n",
    "balanced_acc = balanced_accuracy_score(y_val, y_val_pred)\n",
    "print(f\"✅ Model Trained! Balanced Accuracy: {balanced_acc:.4f}\")"
   ]
  },
  {
   "cell_type": "code",
   "execution_count": null,
   "metadata": {},
   "outputs": [],
   "source": [
    "# 6️⃣ Make predictions on test data\n",
    "test_predictions = rf_model.predict(test_df)"
   ]
  },
  {
   "cell_type": "code",
   "execution_count": null,
   "metadata": {},
   "outputs": [],
   "source": [
    "# 7️⃣ Save predictions for submission\n",
    "submission_file = \"../submissions/census_income_mustafozoda_sharif_1_random.csv\"\n",
    "np.savetxt(submission_file, test_predictions, fmt=\"%d\")"
   ]
  },
  {
   "cell_type": "code",
   "execution_count": null,
   "metadata": {},
   "outputs": [],
   "source": [
    "print(f\"✅ Predictions saved to: {submission_file}\")"
   ]
  },
  {
   "cell_type": "code",
   "execution_count": null,
   "metadata": {},
   "outputs": [],
   "source": [
    "import numpy as np\n",
    "\n",
    "submission_file = \"../submissions/census_income_mustafozoda_sharif_1_random.csv\"\n",
    "predictions = np.loadtxt(submission_file, dtype=int)\n",
    "\n",
    "print(\"✅ Submission file loaded successfully!\")\n",
    "print(\"Unique values in submission file:\",\n",
    "      np.unique(predictions))  # Should be [0, 1]\n",
    "print(\"Total predictions:\", len(predictions))"
   ]
  },
  {
   "cell_type": "code",
   "execution_count": null,
   "metadata": {},
   "outputs": [],
   "source": [
    "from sklearn.model_selection import GridSearchCV\n",
    "\n",
    "# Define hyperparameter grid\n",
    "param_grid = {\n",
    "    'n_estimators': [100, 200, 300],  # Number of trees\n",
    "    'max_depth': [10, 20, None],  # Depth of trees\n",
    "    'min_samples_split': [2, 5, 10],  # Minimum samples to split a node\n",
    "    'min_samples_leaf': [1, 2, 4]  # Minimum samples per leaf node\n",
    "}\n",
    "\n"
   ]
  },
  {
   "cell_type": "code",
   "execution_count": null,
   "metadata": {},
   "outputs": [],
   "source": [
    "\n",
    "# Initialize model\n",
    "rf_model = RandomForestClassifier(random_state=42)"
   ]
  },
  {
   "cell_type": "code",
   "execution_count": null,
   "metadata": {},
   "outputs": [],
   "source": [
    "# Grid search\n",
    "grid_search = GridSearchCV(rf_model, param_grid, cv=5,\n",
    "                           scoring='balanced_accuracy', n_jobs=-1)\n",
    "grid_search.fit(X_train, y_train)"
   ]
  },
  {
   "cell_type": "code",
   "execution_count": null,
   "metadata": {},
   "outputs": [],
   "source": [
    "# Best model\n",
    "best_rf = grid_search.best_estimator_"
   ]
  },
  {
   "cell_type": "code",
   "execution_count": null,
   "metadata": {},
   "outputs": [],
   "source": [
    "# Evaluate on validation data\n",
    "y_val_pred = best_rf.predict(X_val)\n",
    "balanced_acc = balanced_accuracy_score(y_val, y_val_pred)\n",
    "print(\n",
    "    f\"✅ Best Random Forest Model Trained! Balanced Accuracy: {balanced_acc:.4f}\")"
   ]
  },
  {
   "cell_type": "code",
   "execution_count": null,
   "metadata": {},
   "outputs": [],
   "source": [
    "# Check for missing values in features\n",
    "print(\"Missing values in X before splitting:\")\n",
    "print(X.isnull().sum().sort_values(ascending=False))"
   ]
  },
  {
   "cell_type": "code",
   "execution_count": null,
   "metadata": {},
   "outputs": [],
   "source": [
    "# Fill missing values in 'sex' with the most frequent value (mode)\n",
    "X_train[\"sex\"] = X_train[\"sex\"].fillna(X_train[\"sex\"].mode()[0])\n",
    "X_val[\"sex\"] = X_val[\"sex\"].fillna(X_val[\"sex\"].mode()[0])"
   ]
  },
  {
   "cell_type": "code",
   "execution_count": null,
   "metadata": {},
   "outputs": [],
   "source": [
    "print(\"Missing values in X_train:\")\n",
    "print(X_train.isnull().sum()[X_train.isnull().sum() > 0])"
   ]
  },
  {
   "cell_type": "code",
   "execution_count": null,
   "metadata": {},
   "outputs": [],
   "source": [
    "from sklearn.preprocessing import StandardScaler\n",
    "from sklearn.linear_model import LogisticRegression\n",
    "scaler = StandardScaler()\n",
    "X_train_scaled = scaler.fit_transform(\n",
    "    X_train)  # Fit & transform on training data\n",
    "X_val_scaled = scaler.transform(X_val)  # Transform validation data\n",
    "\n",
    "log_reg = LogisticRegression(max_iter=1000, random_state=42)\n",
    "log_reg.fit(X_train_scaled, y_train)\n",
    "\n",
    "y_val_pred = log_reg.predict(X_val_scaled)\n",
    "balanced_acc = balanced_accuracy_score(y_val, y_val_pred)\n",
    "print(f\"✅ Scaled Logistic Regression Balanced Accuracy: {balanced_acc:.4f}\")"
   ]
  },
  {
   "cell_type": "code",
   "execution_count": null,
   "metadata": {},
   "outputs": [],
   "source": [
    "from sklearn.ensemble import GradientBoostingClassifier\n",
    "\n",
    "gb_model = GradientBoostingClassifier(\n",
    "    n_estimators=200, learning_rate=0.1, random_state=42)\n",
    "gb_model.fit(X_train, y_train)\n",
    "\n",
    "y_val_pred = gb_model.predict(X_val)\n",
    "balanced_acc = balanced_accuracy_score(y_val, y_val_pred)\n",
    "print(f\"✅ Gradient Boosting Balanced Accuracy: {balanced_acc:.4f}\")"
   ]
  },
  {
   "cell_type": "code",
   "execution_count": null,
   "metadata": {},
   "outputs": [],
   "source": [
    "print(\"Missing values in test_df:\")\n",
    "print(test_df.isnull().sum()[test_df.isnull().sum() > 0])"
   ]
  },
  {
   "cell_type": "code",
   "execution_count": null,
   "metadata": {},
   "outputs": [],
   "source": [
    "# Fill missing values in 'sex' with the most frequent value (mode)\n",
    "test_df[\"sex\"] = test_df[\"sex\"].fillna(test_df[\"sex\"].mode()[0])\n",
    "print(\"Final missing values in test_df:\",\n",
    "      test_df.isnull().sum().sum())  # Should print 0"
   ]
  },
  {
   "cell_type": "code",
   "execution_count": null,
   "metadata": {},
   "outputs": [],
   "source": [
    "test_predictions = gb_model.predict(test_df)\n",
    "np.savetxt(\"../submissions/census_income_mustafozoda_sharif_1_random.csv\",\n",
    "\n",
    "           test_predictions, fmt=\"%d\")\n",
    "\n",
    "print(\"✅ Gradient Boosting Predictions Saved!\")"
   ]
  },
  {
   "cell_type": "code",
   "execution_count": null,
   "metadata": {},
   "outputs": [],
   "source": [
    "# Train Random Forest again\n",
    "rf_model.fit(X_train, y_train)\n",
    "\n",
    "# Now make predictions\n",
    "test_predictions = rf_model.predict(test_df)\n",
    "\n",
    "# Save predictions\n",
    "np.savetxt(\"../submissions/census_income_mustafozoda_sharif_1_random.csv\",\n",
    "           test_predictions, fmt=\"%d\")\n",
    "print(\"✅ Random Forest Predictions Saved!\")"
   ]
  },
  {
   "cell_type": "code",
   "execution_count": null,
   "metadata": {},
   "outputs": [],
   "source": [
    "import numpy as np\n",
    "\n",
    "submission_file = \"../submissions/census_income_mustafozoda_sharif_1_random.csv\"\n",
    "predictions = np.loadtxt(submission_file, dtype=int)\n",
    "\n",
    "print(\"Submission file loaded successfully!\")\n",
    "print(\"Unique values in submission file:\",\n",
    "      np.unique(predictions)) \n",
    "print(\"Total predictions:\", len(predictions)) "
   ]
  },
  {
   "cell_type": "code",
   "execution_count": null,
   "metadata": {},
   "outputs": [],
   "source": [
    "import subprocess\n",
    "\n",
    "# Export preprocessing.ipynb\n",
    "subprocess.run([\"jupyter\", \"nbconvert\", \"--to\", \"html\",\n",
    "               \"../notebooks/preprocessing.ipynb\"])\n",
    "\n",
    "# Export modeling.ipynb\n",
    "subprocess.run([\"jupyter\", \"nbconvert\", \"--to\",\n",
    "               \"html\", \"../notebooks/modeling.ipynb\"])\n",
    "\n",
    "print(\"Notebooks exported successfully!\")"
   ]
  },
  {
   "cell_type": "code",
   "execution_count": null,
   "metadata": {},
   "outputs": [],
   "source": [
    "subprocess.run([\"jupyter\", \"nbconvert\", \"--to\", \"pdf\",\n",
    "               \"../notebooks/preprocessing.ipynb\"])\n",
    "subprocess.run([\"jupyter\", \"nbconvert\", \"--to\",\n",
    "               \"pdf\", \"../notebooks/modeling.ipynb\"])"
   ]
  },
  {
   "cell_type": "code",
   "execution_count": null,
   "metadata": {},
   "outputs": [],
   "source": [
    "import matplotlib.pyplot as plt\n",
    "import seaborn as sns\n",
    "\n",
    "# Plot age distribution\n",
    "plt.figure(figsize=(8, 5))\n",
    "sns.histplot(train_df[\"age\"], bins=30, kde=True, color=\"blue\")\n",
    "plt.title(\"Age Distribution\")\n",
    "plt.show()"
   ]
  },
  {
   "cell_type": "code",
   "execution_count": null,
   "metadata": {},
   "outputs": [],
   "source": [
    "plt.figure(figsize=(12, 8))\n",
    "sns.heatmap(train_df.corr(), annot=True, cmap=\"coolwarm\", fmt=\".2f\")\n",
    "plt.title(\"Feature Correlation Heatmap\")\n",
    "plt.show()"
   ]
  },
  {
   "cell_type": "code",
   "execution_count": null,
   "metadata": {},
   "outputs": [],
   "source": [
    "plt.figure(figsize=(8, 5))\n",
    "sns.countplot(x=\"sex\", hue=\"income\", data=train_df, palette=\"viridis\")\n",
    "plt.title(\"Income Comparison by Sex\")\n",
    "plt.show()"
   ]
  },
  {
   "cell_type": "code",
   "execution_count": null,
   "metadata": {},
   "outputs": [],
   "source": [
    "from sklearn.metrics import confusion_matrix, ConfusionMatrixDisplay\n",
    "\n",
    "# Predictions on validation set\n",
    "y_val_pred = rf_model.predict(X_val)\n",
    "\n",
    "# Create confusion matrix\n",
    "cm = confusion_matrix(y_val, y_val_pred)\n",
    "disp = ConfusionMatrixDisplay(confusion_matrix=cm)\n",
    "\n",
    "# Display the matrix\n",
    "disp.plot(cmap=\"Blues\")\n",
    "plt.title(\"Random Forest Confusion Matrix\")\n",
    "plt.show()"
   ]
  }
 ],
 "metadata": {
  "kernelspec": {
   "display_name": "Python 3",
   "language": "python",
   "name": "python3"
  },
  "language_info": {
   "codemirror_mode": {
    "name": "ipython",
    "version": 3
   },
   "file_extension": ".py",
   "mimetype": "text/x-python",
   "name": "python",
   "nbconvert_exporter": "python",
   "pygments_lexer": "ipython3",
   "version": "3.12.6"
  }
 },
 "nbformat": 4,
 "nbformat_minor": 2
}
